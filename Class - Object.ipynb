{
 "cells": [
  {
   "cell_type": "markdown",
   "metadata": {},
   "source": [
    "-- PENGERTIAN CLASS --\n",
    "Class adalah template kode untuk membuat objek. \n",
    "objek memiliki variabel anggota dan memiliki perilaku yang terkait dengannya.\n",
    "\n",
    "-- PENGERTIAN OBJEK --\n",
    "Objet atau Objek adalah hasil etak dari Class, atau hasil ‘konkrit’ dari Class. \n",
    "Sebuah objek(turunan kelas) dibuat menggunakan konstruktor kelas.\n",
    "\n",
    "-- PENGERTIAN PROPERTY --\n",
    "Property (atau disebut juga dengan atribut) adalah data yang terdapat dalam sebuah class. \n",
    "property ini sebenarnya hanyalah variabel yang terletak di dalam class. \n",
    "Seluruh aturan dan tipe data yang biasa diinput kedalam variabel, bisa juga diinput kedalam property. \n",
    "Aturan tata ara penamaan property sama dengan aturan penamaan variabel.\n",
    "\n",
    "-- PENGERTIAN Method --\n",
    "Method adalah tindakan yang bisa dilakukan didalam class.\n",
    "Method pada dasarnya adalah funtion yang berada di dalam class. \n",
    "Seluruh fungsi dan sifat funtion bisa diterapkan kedalam method, \n",
    "seperti argumen/parameter, mengembalikan nilai (dengan keyword return), dan lain-lain."
   ]
  },
  {
   "cell_type": "code",
   "execution_count": 1,
   "metadata": {},
   "outputs": [
    {
     "name": "stdout",
     "output_type": "stream",
     "text": [
      "4\n",
      "Luas=  16\n",
      "volume= 64\n",
      "luas permukaan=  96\n"
     ]
    }
   ],
   "source": [
    "#PERBEDAAN CLASS & OBJECT\n",
    "\n",
    "#Class bukan termasuk object tapi dia menciptakan object\n",
    "#Objek: Instance dari class\n",
    "\n",
    "class Kubus: #---> keyword class diikuti dengan nama class yang kita inginkan. Lebih baik digunakan kata yang diawali huruf kapital.\n",
    "    def __init__(self,s): #---> constructor menggunakan method bawaan python yg bernama init\n",
    "        self.sisi = s\n",
    "\n",
    "#method _init__() ad. methode constructor, yaitu metdoe khusus yang digunakan python untuk menginisalisasi pembuatan objek dari kelas tsb\n",
    "#Setiap method harus memiliki parameter self yang artinya method tersebut dimiliki dan terdaftar ke class tersebut untuk membedakan dari method atau fungsi yang ada di luar class\n",
    "\n",
    "    def tampilkansisi(self):\n",
    "        print(self.sisi)\n",
    "    def luas(self):\n",
    "        print(\"Luas= \", self.sisi ** 2)\n",
    "    def volume(self):\n",
    "        print(\"volume=\", self.sisi ** 3)\n",
    "    def luaspermukaan(self):\n",
    "        print(\"luas permukaan= \", (self.sisi ** 2) * 6)\n",
    "        \n",
    "Kubus1 = Kubus (4)\n",
    "Kubus1.tampilkansisi()\n",
    "Kubus1.luas()\n",
    "Kubus1.volume()\n",
    "Kubus1.luaspermukaan()\n"
   ]
  },
  {
   "cell_type": "code",
   "execution_count": null,
   "metadata": {},
   "outputs": [],
   "source": [
    "-- Mengakses Method Objek --\n",
    "#Menggunakan operator titik\n",
    "\n",
    "-- Instansiasi Objek (membuat objek dari sebuah kelas) --\n",
    "#argumen sesuai dengan fungsi __init__() pada saat kita mendefinisikannya \n",
    "\n",
    "class Pegawai:\n",
    "    def __init__(self,n,j,g):\n",
    "        self.nama = n\n",
    "        self.jabatan = j\n",
    "        self.gaji = g\n",
    "    \n",
    "    def tampilkan(self):\n",
    "        print(self.nama,\",\",self.jabatan,\"dan\",self.gaji*30)\n",
    "\n",
    "p1 = Pegawai(\"adi\",\"admin\",5000)\n",
    "p1.tampilkan()"
   ]
  },
  {
   "cell_type": "code",
   "execution_count": null,
   "metadata": {},
   "outputs": [],
   "source": [
    "#Contoh 1: Class Mahasiswa\n",
    "class Mahasiswa:\n",
    "    def __init__(self,np,na,ip):\n",
    "        self.np = np\n",
    "        self.na = na\n",
    "        self.ip = ip\n",
    "    def tampilkan(self):\n",
    "        print(self.np,\",\",self.na,\"dan\",self.ip)\n",
    "    def predikat(self):\n",
    "        if self.ip >= 3.5:\n",
    "            print(\"Cumlaude\")\n",
    "        elif self.ip > 3:\n",
    "            print (\"Sangat Memuaskan\")\n",
    "        elif self.ip < 3.5:\n",
    "            print (\"Sangat Memuaskan\")\n",
    "        elif self.ip < 2.5:\n",
    "            print(\"Memuaskan\")\n",
    "        elif self.ip <= 3:\n",
    "            print (\"cukup\")\n",
    "    \n",
    "\n",
    "Mahasiswa1 = Mahasiswa(\"002\",\"Gita\",3)\n",
    "Mahasiswa1.tampilkan()\n",
    "Mahasiswa1.predikat()"
   ]
  },
  {
   "cell_type": "code",
   "execution_count": null,
   "metadata": {},
   "outputs": [],
   "source": [
    "#Contoh 2: Class Rekening Tabungan\n",
    "\n",
    "class Rekening:\n",
    "    def __init__(self,norek,saldo):\n",
    "        self.norek = norek\n",
    "        self.saldo = saldo\n",
    "    def ambiluang(self,jumlah):\n",
    "        self.saldo -= jumlah\n",
    "    def setoruang(self,jumlah):\n",
    "        self.saldo += jumlah\n",
    "    def ceksaldo(self):\n",
    "        print(\"Sisa saldo = \", self.saldo)\n",
    "    def tampilkanrek(self):\n",
    "        print(\"Saldo = \",self.saldo)\n",
    "        \n",
    "class Nasabah:\n",
    "    def __init__(self,nonas,na,norek):\n",
    "        self.nonas= nonas\n",
    "        self.na = na\n",
    "        self.norek = norek\n",
    "    def tampilkannas(self):\n",
    "        print(self.nonas,\",\",self.na,\"dan\",self.norek)\n",
    "\n",
    "Nas = Nasabah(\"00002\",\"Gita\",\"124354758574\")\n",
    "Nas.tampilkannas()\n",
    "norek = Nas.norek\n",
    "rekening = Rekening(norek,5000)\n",
    "rekening.tampilkanrek()\n",
    "rekening.ambiluang(1000)\n",
    "rekening.setoruang(500)\n",
    "rekening.ceksaldo()"
   ]
  },
  {
   "cell_type": "code",
   "execution_count": null,
   "metadata": {},
   "outputs": [],
   "source": [
    "#Contoh 3: Class Pegawai\n",
    "\n",
    "class Pegawai:\n",
    "    def __init__(self,no,na,tl,th):\n",
    "        self.no = no\n",
    "        self.nama = na\n",
    "        self.tl = tl\n",
    "        self.th = th\n",
    "    def umur(self,tahun):\n",
    "        self.th = tahun - self.th\n",
    "    def tampilkan(self):\n",
    "        print(\"No. Pegawai: \",self.no)\n",
    "        print(\"Nama Pegawai: \",self.nama)\n",
    "        print(\"Tanggal Lahir: \",self.tl)\n",
    "        print(\"Umur Sekarang: \", self.th)\n",
    "\n",
    "p1 = Pegawai(\"0002\",\"gita\",\"1 Januari 1999\",1999)\n",
    "p1.umur(2018)\n",
    "p1.tampilkan()"
   ]
  }
 ],
 "metadata": {
  "kernelspec": {
   "display_name": "Python 3",
   "language": "python",
   "name": "python3"
  },
  "language_info": {
   "codemirror_mode": {
    "name": "ipython",
    "version": 3
   },
   "file_extension": ".py",
   "mimetype": "text/x-python",
   "name": "python",
   "nbconvert_exporter": "python",
   "pygments_lexer": "ipython3",
   "version": "3.6.5"
  }
 },
 "nbformat": 4,
 "nbformat_minor": 2
}
