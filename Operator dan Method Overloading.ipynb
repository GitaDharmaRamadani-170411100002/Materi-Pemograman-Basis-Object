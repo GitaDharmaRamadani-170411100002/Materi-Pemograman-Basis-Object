{
 "cells": [
  {
   "cell_type": "code",
   "execution_count": null,
   "metadata": {},
   "outputs": [],
   "source": [
    "Method Overloading adalah sebuah kemampuan yang membolehkan sebuah class mempunyai 2 atau lebih method dengan nama yang sama, \n",
    "yang membedakan adalah jumlah, tipe data, dan urutan dari tipe data parameternya.\n",
    "\n",
    "Operator overloading\tPenugasan lebih dari satu fungsi ke operator tertentu.\n"
   ]
  },
  {
   "cell_type": "code",
   "execution_count": null,
   "metadata": {},
   "outputs": [],
   "source": [
    "class C:\n",
    "    def __init__(self, value):\n",
    "        self.value = value\n",
    "    def __sub__(self, other):\n",
    "        return self.value * other.value\n",
    "    \n",
    "varA = C(4)\n",
    "varB = C(2)\n",
    "varC = varA - varB\n",
    "print(varC)"
   ]
  },
  {
   "cell_type": "code",
   "execution_count": 1,
   "metadata": {},
   "outputs": [
    {
     "name": "stdout",
     "output_type": "stream",
     "text": [
      "I'm in B\n"
     ]
    }
   ],
   "source": [
    "class A:\n",
    "    def sayhi(self):\n",
    "        print(\"I'm in A\")   \n",
    "class B(A):\n",
    "    def sayhi(self):\n",
    "        print(\"I'm in B\")  \n",
    "\n",
    "bobj = B()\n",
    "bobj.sayhi()"
   ]
  },
  {
   "cell_type": "code",
   "execution_count": 6,
   "metadata": {},
   "outputs": [
    {
     "name": "stdout",
     "output_type": "stream",
     "text": [
      "100\n"
     ]
    }
   ],
   "source": [
    "def product(a,b):\n",
    "    p = a*b\n",
    "    print(p)\n",
    "def product(a,b,c):\n",
    "    p = a*b*c\n",
    "    print(p)\n",
    "\n",
    "product(4,5,5)"
   ]
  },
  {
   "cell_type": "code",
   "execution_count": 14,
   "metadata": {},
   "outputs": [
    {
     "name": "stdout",
     "output_type": "stream",
     "text": [
      "11\n",
      "HiGeeks\n"
     ]
    }
   ],
   "source": [
    "#Method Overloading\n",
    "\n",
    "def add(datatype, *args):\n",
    "    \n",
    "    if datatype == 'int':\n",
    "        answer = 0\n",
    "    \n",
    "    if datatype == 'str':\n",
    "        answer =\"\"\n",
    "    \n",
    "    for x in args:\n",
    "        answer = answer + x\n",
    "    \n",
    "    print(answer)\n",
    "    \n",
    "#integer\n",
    "add('int',5,6)\n",
    "#string\n",
    "add('str','Hi','Geeks')"
   ]
  },
  {
   "cell_type": "code",
   "execution_count": 16,
   "metadata": {},
   "outputs": [
    {
     "name": "stdout",
     "output_type": "stream",
     "text": [
      "Hello\n",
      "HelloGita\n"
     ]
    }
   ],
   "source": [
    "#Method Overloading\n",
    "\n",
    "class Human:\n",
    "    def sayHello(self,name=None):\n",
    "        if name is not None:\n",
    "            print(\"Hello\" + name)\n",
    "        else:\n",
    "            print(\"Hello\")\n",
    "\n",
    "#Create Instance\n",
    "obj = Human()\n",
    "\n",
    "#Call the method\n",
    "obj.sayHello()\n",
    "\n",
    "#call the method with a parameter\n",
    "obj.sayHello(\"Gita\")"
   ]
  },
  {
   "cell_type": "code",
   "execution_count": 48,
   "metadata": {},
   "outputs": [
    {
     "name": "stdout",
     "output_type": "stream",
     "text": [
      "1/2\n",
      "3/4\n",
      "10/8\n",
      "3/8\n"
     ]
    }
   ],
   "source": [
    "#Operator Overloading\n",
    "#Penambahan dan Perkalian Pecahan\n",
    "class Fraction:\n",
    "    def __init__(self,top,bottom):\n",
    "        self.num = top\n",
    "        self.den = bottom\n",
    "    def show(self):\n",
    "         print(self.num,\"/\"+str(self.den))\n",
    "    def __str__(self):\n",
    "        return str(self.num)+\"/\"+str(self.den)\n",
    "    def __add__(self,otherfraction):\n",
    "        newnum = self.num*otherfraction.den+self.den*otherfraction.num\n",
    "        newden = self.den * otherfraction.den\n",
    "        return Fraction(newnum,newden)\n",
    "    def __mul__(self,otherfraction):\n",
    "        newnum = self.num* otherfraction.num\n",
    "        newden = self.den * otherfraction.den\n",
    "        return Fraction(newnum,newden)  \n",
    "\n",
    "    \n",
    "f1 = Fraction(1,2)\n",
    "f2 = Fraction(3,4)\n",
    "print(f1)\n",
    "print(f2)\n",
    "print(f1+f2)\n",
    "print(f1*f2)"
   ]
  },
  {
   "cell_type": "code",
   "execution_count": 70,
   "metadata": {},
   "outputs": [
    {
     "name": "stdout",
     "output_type": "stream",
     "text": [
      "point object is at:(10,2)\n",
      "point object is at:(10,2)\n",
      "point object is at:(8,0)\n"
     ]
    }
   ],
   "source": [
    "#Operator Overloading\n",
    "class Point:\n",
    "    def __init__(self, x=0,y=0):\n",
    "        self.x = x\n",
    "        self.y =  y\n",
    "    \n",
    "    #def __str__(self):\n",
    "    #return \"{0},{1}\".format(self.x,self)\n",
    "    def __str__(self):\n",
    "        return \"point object is at:(\"+str(self.x)+\",\"+str(self.y)+\")\"\n",
    "    def __add__(self,other):\n",
    "        x = self.x + other.x\n",
    "        y = self.y + other.y\n",
    "        return Point(x,y)\n",
    "    def __sub__(self,other):\n",
    "        x = self.x - other.x\n",
    "        y = self.y - other.y\n",
    "        return Point(x,y)\n",
    "    \n",
    "p1 = Point(9,1)\n",
    "p2 = Point(1,1)\n",
    "print (p1 + p2) \n",
    "print(p1.__add__(p2))\n",
    "print(p1.__sub__(p2))"
   ]
  }
 ],
 "metadata": {
  "kernelspec": {
   "display_name": "Python 3",
   "language": "python",
   "name": "python3"
  },
  "language_info": {
   "codemirror_mode": {
    "name": "ipython",
    "version": 3
   },
   "file_extension": ".py",
   "mimetype": "text/x-python",
   "name": "python",
   "nbconvert_exporter": "python",
   "pygments_lexer": "ipython3",
   "version": "3.6.5"
  }
 },
 "nbformat": 4,
 "nbformat_minor": 2
}
