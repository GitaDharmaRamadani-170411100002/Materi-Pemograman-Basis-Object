{
 "cells": [
  {
   "cell_type": "code",
   "execution_count": null,
   "metadata": {},
   "outputs": [],
   "source": [
    "---- Pengertian Encapsulation ----\n",
    "Encapsulation digunakan untuk mengatur struktur Class dengan cara menyembunyikan alur kerja dari Class tersebut. \n",
    "Atau bisa disebut membungkus properti atau method dari suatu class.\n",
    "Public ----> akan membuat member dan Class bisa di akses dari mana saja.\n",
    "Private ---> akan membuat member hanya bisa diakses oleh dari dalam Class itu sendiri."
   ]
  },
  {
   "cell_type": "code",
   "execution_count": null,
   "metadata": {},
   "outputs": [],
   "source": [
    "#Contoh 1:\n",
    "class robot (object):\n",
    "    def __init__(self):\n",
    "        self.__version = 22\n",
    "\n",
    "    def getVersion(self):\n",
    "        print (self.__version)\n",
    "\n",
    "    def setVersion(self,version):\n",
    "        self.__version = version\n",
    "\n",
    "obj= robot()\n",
    "obj.getVersion()\n",
    "obj.setVersion(23)\n",
    "obj.getVersion()\n",
    "'''print(obj.__Version)'''\n",
    "#CLASS ini mnggunakan private attribute dan private method "
   ]
  },
  {
   "cell_type": "code",
   "execution_count": 2,
   "metadata": {},
   "outputs": [
    {
     "name": "stdout",
     "output_type": "stream",
     "text": [
      "BENTUKNYA =  persegi\n",
      "KELILINGNYA =  16\n",
      "KELILINGNYA =  40\n"
     ]
    }
   ],
   "source": [
    "#Contoh 2:\n",
    "class Persegi:        \n",
    "    def __init__(self,bentuk=\"persegi\"):\n",
    "        self.__sisi=4\n",
    "        self.__bentuk=\"persegi\"\n",
    "    \n",
    "    def __keliling(self):\n",
    "        print (\"KELILINGNYA = \",self.__sisi*4)\n",
    "    def display (self):\n",
    "        print (\"BENTUKNYA = \",self.__bentuk)\n",
    "        #method private\n",
    "\n",
    "    def Ukuran(self,isi):\n",
    "        self.__sisi=isi\n",
    "\n",
    "#ATRIBUT PRIVATE\n",
    "#method private \n",
    "a=Persegi()\n",
    "a.display()\n",
    "a._Persegi__keliling()\n",
    "\n",
    "#atribute private \n",
    "a.Ukuran(10)\n",
    "a._Persegi__keliling()\n"
   ]
  }
 ],
 "metadata": {
  "kernelspec": {
   "display_name": "Python 3",
   "language": "python",
   "name": "python3"
  },
  "language_info": {
   "codemirror_mode": {
    "name": "ipython",
    "version": 3
   },
   "file_extension": ".py",
   "mimetype": "text/x-python",
   "name": "python",
   "nbconvert_exporter": "python",
   "pygments_lexer": "ipython3",
   "version": "3.6.5"
  }
 },
 "nbformat": 4,
 "nbformat_minor": 2
}
