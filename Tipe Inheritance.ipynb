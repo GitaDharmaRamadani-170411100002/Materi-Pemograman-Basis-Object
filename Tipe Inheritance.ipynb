{
 "cells": [
  {
   "cell_type": "code",
   "execution_count": 1,
   "metadata": {},
   "outputs": [
    {
     "name": "stdout",
     "output_type": "stream",
     "text": [
      "Sisi =  4 Bentuk =  Persegi\n",
      "\n",
      "Sisi =  4 Bentuk =  Persegi Panjang\n",
      "Mempunyai 2 sisi yang sama\n",
      "\n",
      "Sisi =  4 Bentuk =  Bujur Sangkar\n",
      "Ketupatnya Sama Panjang \n"
     ]
    }
   ],
   "source": [
    "#Default = Memanggil Class yang sama\n",
    "\n",
    "class Persegi:\n",
    "    def __init__(self,sisi,bentuk=\"Persegi\"):\n",
    "        self.sisi = sisi\n",
    "        self.bentuk = bentuk\n",
    "    \n",
    "    def tampilan(self):\n",
    "        print(\"Sisi = \", self.sisi, \"Bentuk = \", self.bentuk)\n",
    "    \n",
    "class PersegiPanjang(Persegi):\n",
    "    def __init__(self,sisi,bentuk=\"Persegi Panjang\"):\n",
    "        self.sisi = sisi\n",
    "        self.bentuk = bentuk\n",
    "    \n",
    "    def deskripsi(self):\n",
    "        print(\"Mempunyai 2 sisi yang sama\")\n",
    "\n",
    "class BujurSangkar(Persegi):\n",
    "    def __init__(self,sisi,bentuk=\"Bujur Sangkar\"):\n",
    "        self.sisi = sisi\n",
    "        self.bentuk = bentuk\n",
    "    \n",
    "    def deskripsi(self):\n",
    "        print(\"Ketupatnya Sama Panjang \")\n",
    "\n",
    "A = Persegi(4)\n",
    "A.tampilan()\n",
    "print(\"\")\n",
    "B = PersegiPanjang(4)\n",
    "B.tampilan()\n",
    "B.deskripsi()   \n",
    "print(\"\")\n",
    "C = BujurSangkar(4)\n",
    "C.tampilan()\n",
    "C.deskripsi()"
   ]
  },
  {
   "cell_type": "code",
   "execution_count": 34,
   "metadata": {},
   "outputs": [
    {
     "name": "stdout",
     "output_type": "stream",
     "text": [
      "Name = brian\n",
      "Name = diana\n",
      "Name = diana\n",
      "Name Akhir= eka\n",
      "Progamming Python\n"
     ]
    }
   ],
   "source": [
    "#SuperClass = Menambah properti pada kelas anak\n",
    "class User:\n",
    "    def __init__(self,name):\n",
    "        self.name = name\n",
    "    def printName(self):\n",
    "        print(\"Name = \" + self.name)\n",
    "        \n",
    "class Programmer(User): #--> Super (Inheritance - SuperClass). Tugas1\n",
    "    def __init__(self,nama,last_name):\n",
    "        self.last_name = last_name  \n",
    "        User.__init__(self,nama)\n",
    "    def printLastName(self):\n",
    "        print(\"Name Akhir= \" + self.last_name)\n",
    "        \n",
    "    def doPython(self):\n",
    "        print(\"Progamming Python\")\n",
    "\n",
    "class Programmer1(User):\n",
    "    pass\n",
    "\n",
    "brian = User(\"brian\")\n",
    "brian.printName()\n",
    "\n",
    "diana1 = Programmer1(\"diana\")\n",
    "diana1.printName()\n",
    "\n",
    "diana = Programmer(\"diana\",\"eka\")\n",
    "diana.printName()\n",
    "diana.printLastName()\n",
    "diana.doPython()\n"
   ]
  },
  {
   "cell_type": "code",
   "execution_count": 51,
   "metadata": {},
   "outputs": [
    {
     "name": "stdout",
     "output_type": "stream",
     "text": [
      "Nama: Gita\n",
      "Npm: 170411100002\n",
      "Nilai\n",
      "Math: 90\n",
      "Biology: 95\n",
      "Nama: Rani\n",
      "Npm: 86376523465432\n",
      "Nilai\n",
      "Math: 70\n",
      "Biology: 80\n",
      "\n",
      "\n",
      "Nama:  Gita\n",
      "Npm:  170411100002\n",
      "Nilai:  185\n",
      "\n",
      "\n",
      "Nama:  Rani\n",
      "Npm:  86376523465432\n",
      "Nilai:  150\n"
     ]
    }
   ],
   "source": [
    "#OVERRIDING: memodifikasi atau memperluas data dan method pada kelas induk\n",
    "#Example: mengubah properti fish dan shark pada last_name dan skeleton\n",
    "\n",
    "class Fish:\n",
    "    def __init__(self,first_name,last_name=\"Fish\",skeleton=\"bone\",eyelids=False):\n",
    "        self.first_name = first_name\n",
    "        self.last_name = last_name\n",
    "        self.skeleton = skeleton\n",
    "        self.eyelids = eyelids\n",
    "    \n",
    "    def swim(self):\n",
    "        print(\"The Fish is swimming\")\n",
    "        \n",
    "    def swim_backwards(self):\n",
    "        print(\"The fish can swim backwards\")\n",
    "        \n",
    "class Shark(Fish):\n",
    "    def __init__(self,first_name,last_name=\"Shark\",skeleton=\"cartilage\",eyelids=False):\n",
    "        self.first_name = first_name\n",
    "        self.last_name = last_name\n",
    "        self.skeleton = skeleton\n",
    "        self.eyelids = eyelids   \n",
    "        \n",
    "    def swim_backwards(self):\n",
    "        print(\"The shark cannot swim backwards, but can sink backwards\")\n",
    "        \n",
    "hiu = Shark(\"hiu besar\")\n",
    "Shark.swim_backwards()\n",
    "\n",
    "\n"
   ]
  },
  {
   "cell_type": "code",
   "execution_count": 2,
   "metadata": {},
   "outputs": [
    {
     "name": "stdout",
     "output_type": "stream",
     "text": [
      "Nama: gita\n",
      "Npm: 002\n",
      "Nilai\n",
      "Math: 90\n",
      "Biology: 80\n",
      "Nama: dhevy\n",
      "Npm: 900\n",
      "Nilai\n",
      "Math: 90\n",
      "Biology: 90\n",
      "\n",
      "\n",
      "Nama:  gita\n",
      "Npm:  002\n",
      "Nilai:  170\n",
      "\n",
      "\n",
      "Nama:  dhevy\n",
      "Npm:  900\n",
      "Nilai:  180\n"
     ]
    }
   ],
   "source": [
    "#MultipleInheritance = Memanggil 2 Class Yang sama\n",
    "\n",
    "class person:\n",
    "    def __init__(self):\n",
    "        self.name = input(\"Nama: \")\n",
    "    \n",
    "    def display(self):\n",
    "        print(\"\\n\\nNama: \", self.name)\n",
    "\n",
    "class marks:\n",
    "    def __init__(self):\n",
    "        self.npm = input(\"Npm: \")\n",
    "        print(\"Nilai\")\n",
    "        self.math = int(input(\"Math: \"))\n",
    "        self.biology = int(input(\"Biology: \"))\n",
    "        \n",
    "    def display(self):\n",
    "        print(\"Npm: \", self.npm)\n",
    "        print(\"Nilai: \", self.math+self.biology)\n",
    "        \n",
    "class student(person,marks):\n",
    "    def __init__(self):\n",
    "        person.__init__(self)\n",
    "        marks.__init__(self)\n",
    "        \n",
    "    def result(self):\n",
    "        person.display(self)\n",
    "        marks.display(self)\n",
    "        \n",
    "stu1 = student()\n",
    "stu2 = student()\n",
    "stu1.result()\n",
    "stu2.result()"
   ]
  }
 ],
 "metadata": {
  "kernelspec": {
   "display_name": "Python 3",
   "language": "python",
   "name": "python3"
  },
  "language_info": {
   "codemirror_mode": {
    "name": "ipython",
    "version": 3
   },
   "file_extension": ".py",
   "mimetype": "text/x-python",
   "name": "python",
   "nbconvert_exporter": "python",
   "pygments_lexer": "ipython3",
   "version": "3.6.5"
  }
 },
 "nbformat": 4,
 "nbformat_minor": 2
}
